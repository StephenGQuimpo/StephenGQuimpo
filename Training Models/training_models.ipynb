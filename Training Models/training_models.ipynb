{
 "cells": [
  {
   "cell_type": "code",
   "execution_count": 1,
   "metadata": {},
   "outputs": [],
   "source": [
    "import numpy as np\n",
    "\n",
    "X = 2 * np.random.rand(100, 1)\n",
    "y = 4 + 3 * X + np.random.randn(100, 1)"
   ]
  },
  {
   "cell_type": "code",
   "execution_count": 2,
   "metadata": {},
   "outputs": [],
   "source": [
    "import matplotlib\n",
    "import matplotlib.pyplot as plt"
   ]
  },
  {
   "cell_type": "code",
   "execution_count": 3,
   "metadata": {},
   "outputs": [
    {
     "data": {
      "image/png": "[encoded data removed]",
      "text/plain": [
       "<Figure size 432x288 with 1 Axes>"
      ]
     },
     "metadata": {
      "needs_background": "light"
     },
     "output_type": "display_data"
    }
   ],
   "source": [
    "%matplotlib inline\n",
    "plt.scatter(X, y, color='b')\n",
    "plt.axis([min(X) - 0.1, max(X) + 0.1, min(y) - 2, max(y) + 2])\n",
    "plt.show()"
   ]
  },
  {
   "cell_type": "code",
   "execution_count": 4,
   "metadata": {},
   "outputs": [
    {
     "name": "stdout",
     "output_type": "stream",
     "text": [
      "theta_0 = 3.885998821754149 theta_1 = 3.0872166713566274\n"
     ]
    }
   ],
   "source": [
    "X_b = np.c_[np.ones((100, 1)), X] #add x0 = 1 to each instance\n",
    "theta_best = np.linalg.inv(X_b.T.dot(X_b)).dot(X_b.T).dot(y)\n",
    "print('theta_0 =', float(theta_best[0]), 'theta_1 =', float(theta_best[1]))"
   ]
  },
  {
   "cell_type": "code",
   "execution_count": 5,
   "metadata": {},
   "outputs": [
    {
     "name": "stdout",
     "output_type": "stream",
     "text": [
      "Predictions\n",
      "x = 0, y = 3.885998821754149 x = 2, y = 10.060432164467404\n"
     ]
    }
   ],
   "source": [
    "X_new = np.array([[0], [2]])\n",
    "X_new_b = np.c_[np.ones((2, 1)), X_new] #add x0 = 1 to each instance\n",
    "y_predict = X_new_b.dot(theta_best)\n",
    "print('Predictions')\n",
    "print('x = 0, y =', float(y_predict[0]), 'x = 2, y =', float(y_predict[1]))"
   ]
  },
  {
   "cell_type": "code",
   "execution_count": 6,
   "metadata": {},
   "outputs": [
    {
     "data": {
      "image/png": "[encoded data removed]",
      "text/plain": [
       "<Figure size 432x288 with 1 Axes>"
      ]
     },
     "metadata": {
      "needs_background": "light"
     },
     "output_type": "display_data"
    }
   ],
   "source": [
    "plt.plot(X_new, y_predict, 'r-')\n",
    "plt.plot(X, y, 'b.')\n",
    "#plt.axis([0, 2, 0, 15])\n",
    "plt.show()"
   ]
  },
  {
   "cell_type": "code",
   "execution_count": 7,
   "metadata": {},
   "outputs": [
    {
     "name": "stdout",
     "output_type": "stream",
     "text": [
      "theta_0 = 3.8859988217541517 theta_1 = 3.0872166713566296\n",
      "x = 0, y = 3.8859988217541517 x = 2, y = 10.06043216446741\n"
     ]
    }
   ],
   "source": [
    "from sklearn.linear_model import LinearRegression\n",
    "\n",
    "lin_reg = LinearRegression()\n",
    "lin_reg.fit(X, y)\n",
    "print('theta_0 =', float(lin_reg.intercept_), 'theta_1 =', float(lin_reg.coef_))\n",
    "pred = lin_reg.predict(X_new)\n",
    "print('x = 0, y =', float(pred[0]), 'x = 2, y =', float(pred[1]))"
   ]
  },
  {
   "cell_type": "code",
   "execution_count": 8,
   "metadata": {},
   "outputs": [
    {
     "data": {
      "text/plain": [
       "array([[3.88599882],\n",
       "       [3.08721667]])"
      ]
     },
     "execution_count": 8,
     "metadata": {},
     "output_type": "execute_result"
    }
   ],
   "source": [
    "eta = 0.1 # learning rate\n",
    "n_iterations = 1000\n",
    "m = 100\n",
    "\n",
    "theta = np.random.randn(2, 1) # random initialisation\n",
    "\n",
    "for iteration in range(n_iterations):\n",
    "    gradients = 2 / m * X_b.T.dot(X_b.dot(theta) - y)\n",
    "    theta = theta - eta * gradients\n",
    "    \n",
    "theta"
   ]
  },
  {
   "cell_type": "code",
   "execution_count": 9,
   "metadata": {},
   "outputs": [],
   "source": [
    "n_epochs = 50\n",
    "t0, t1 = 5, 50 # learning schedule hyperparameters\n",
    "\n",
    "def learning_schedule(t):\n",
    "    return t0 / (t + t1)\n",
    "\n",
    "theta = np.random.randn(2, 1)\n",
    "\n",
    "for epoch in range(n_epochs):\n",
    "    for i in range(m):\n",
    "        random_index = np.random.randint(m)\n",
    "        xi = X_b[random_index:random_index + 1]\n",
    "        yi = y[random_index:random_index + 1]\n",
    "        gradients = 2 * xi.T.dot(xi.dot(theta) - yi)\n",
    "        eta = learning_schedule(epoch * m + i)\n",
    "        theta = theta - eta * gradients"
   ]
  },
  {
   "cell_type": "code",
   "execution_count": 10,
   "metadata": {},
   "outputs": [
    {
     "data": {
      "text/plain": [
       "array([[3.94288882],\n",
       "       [3.12566644]])"
      ]
     },
     "execution_count": 10,
     "metadata": {},
     "output_type": "execute_result"
    }
   ],
   "source": [
    "theta"
   ]
  },
  {
   "cell_type": "code",
   "execution_count": 11,
   "metadata": {},
   "outputs": [
    {
     "data": {
      "text/plain": [
       "(array([3.79317038]), array([3.00473642]))"
      ]
     },
     "execution_count": 11,
     "metadata": {},
     "output_type": "execute_result"
    }
   ],
   "source": [
    "from sklearn.linear_model import SGDRegressor\n",
    "sgd_reg = SGDRegressor(max_iter=50, penalty=None, eta0=0.1)\n",
    "sgd_reg.fit(X, y.ravel())\n",
    "sgd_reg.intercept_, sgd_reg.coef_"
   ]
  },
  {
   "cell_type": "code",
   "execution_count": 12,
   "metadata": {},
   "outputs": [],
   "source": [
    "m = 100\n",
    "X = 6 * np.random.randn(m, 1) - 3\n",
    "y = 0.5 * X ** 2 + X + 2 + np.random.randn(m, 1)"
   ]
  },
  {
   "cell_type": "code",
   "execution_count": 13,
   "metadata": {},
   "outputs": [
    {
     "data": {
      "image/png": "[encoded data removed]",
      "text/plain": [
       "<Figure size 432x288 with 1 Axes>"
      ]
     },
     "metadata": {
      "needs_background": "light"
     },
     "output_type": "display_data"
    }
   ],
   "source": [
    "plt.scatter(X, y)\n",
    "plt.axis([-7, 7, 0, 15])\n",
    "plt.xlabel('X')\n",
    "plt.ylabel('y')\n",
    "plt.show()"
   ]
  },
  {
   "cell_type": "code",
   "execution_count": 14,
   "metadata": {},
   "outputs": [
    {
     "name": "stdout",
     "output_type": "stream",
     "text": [
      "[-6.15911037]\n",
      "[-6.15911037 37.9346406 ]\n"
     ]
    }
   ],
   "source": [
    "from sklearn.preprocessing import PolynomialFeatures\n",
    "poly_features = PolynomialFeatures(degree=2, include_bias=False)\n",
    "X_poly = poly_features.fit_transform(X)\n",
    "print(X[90])\n",
    "print(X_poly[90])"
   ]
  },
  {
   "cell_type": "code",
   "execution_count": 15,
   "metadata": {},
   "outputs": [
    {
     "data": {
      "text/plain": [
       "(array([2.13012957]), array([[0.97978965, 0.49902216]]))"
      ]
     },
     "execution_count": 15,
     "metadata": {},
     "output_type": "execute_result"
    }
   ],
   "source": [
    "lin_reg = LinearRegression()\n",
    "lin_reg.fit(X_poly, y)\n",
    "lin_reg.intercept_, lin_reg.coef_"
   ]
  },
  {
   "cell_type": "code",
   "execution_count": 16,
   "metadata": {},
   "outputs": [
    {
     "data": {
      "text/plain": [
       "array([[21.10120795],\n",
       "       [ 8.30666122]])"
      ]
     },
     "execution_count": 16,
     "metadata": {},
     "output_type": "execute_result"
    }
   ],
   "source": [
    "y_pred = lin_reg.predict(X_poly)\n",
    "y_pred[:2]"
   ]
  },
  {
   "cell_type": "code",
   "execution_count": 17,
   "metadata": {},
   "outputs": [
    {
     "name": "stdout",
     "output_type": "stream",
     "text": [
      "0.49902216209969913 0.9797896456049308\n"
     ]
    }
   ],
   "source": [
    "for c0, c1 in lin_reg.coef_:\n",
    "    b = float(c0)\n",
    "    a = float(c1)\n",
    "print(a, b)"
   ]
  },
  {
   "cell_type": "code",
   "execution_count": 18,
   "metadata": {},
   "outputs": [],
   "source": [
    "def get_poly_graph():\n",
    "    y_outputs = [] \n",
    "    x_inputs = []\n",
    "    for x in range(-8, 9, 1):\n",
    "        x_inputs.append(x)\n",
    "        y_outputs.append(a * x ** 2 + b * x + float(lin_reg.intercept_))\n",
    "    return x_inputs, y_outputs"
   ]
  },
  {
   "cell_type": "code",
   "execution_count": 19,
   "metadata": {},
   "outputs": [],
   "source": [
    "xi, yi = get_poly_graph()"
   ]
  },
  {
   "cell_type": "code",
   "execution_count": 20,
   "metadata": {
    "scrolled": true
   },
   "outputs": [
    {
     "data": {
      "image/png": "[encoded data removed]",
      "text/plain": [
       "<Figure size 432x288 with 1 Axes>"
      ]
     },
     "metadata": {
      "needs_background": "light"
     },
     "output_type": "display_data"
    }
   ],
   "source": [
    "plt.scatter(X, y, color='b', label='Training Data')\n",
    "plt.plot(xi, yi, color='r', label='Predictions')\n",
    "plt.axis([-7, 7, 0, 15])\n",
    "plt.xlabel('X')\n",
    "plt.ylabel('y')\n",
    "plt.legend()\n",
    "plt.show()"
   ]
  },
  {
   "cell_type": "code",
   "execution_count": 21,
   "metadata": {},
   "outputs": [],
   "source": [
    "from sklearn.metrics import mean_squared_error\n",
    "from sklearn.model_selection import train_test_split\n",
    "\n",
    "def plot_learning_curves(model, X, y):\n",
    "    X_train, X_val, y_train, y_val = train_test_split(X, y, test_size=0.2)\n",
    "    train_errors, val_errors = [], []\n",
    "    for m in range(1, len(X_train)):\n",
    "        model.fit(X_train[:m], y_train[:m])\n",
    "        y_train_predict = model.predict(X_train[:m])\n",
    "        y_val_predict = model.predict(X_val)\n",
    "        train_errors.append(mean_squared_error(y_train_predict, y_train[:m]))\n",
    "        val_errors.append(mean_squared_error(y_val_predict, y_val))\n",
    "    plt.plot(np.sqrt(train_errors), 'r-+', linewidth=2, label='train')\n",
    "    plt.plot(np.sqrt(val_errors), 'b-', linewidth=3, label='val')\n",
    "    plt.legend()\n",
    "    plt.xlabel('Training set size')\n",
    "    plt.ylabel('RMSE')"
   ]
  },
  {
   "cell_type": "code",
   "execution_count": 22,
   "metadata": {},
   "outputs": [
    {
     "data": {
      "image/png": "[encoded data removed]",
      "text/plain": [
       "<Figure size 432x288 with 1 Axes>"
      ]
     },
     "metadata": {
      "needs_background": "light"
     },
     "output_type": "display_data"
    }
   ],
   "source": [
    "lin_reg = LinearRegression()\n",
    "plot_learning_curves(lin_reg, X, y)"
   ]
  },
  {
   "cell_type": "code",
   "execution_count": 23,
   "metadata": {},
   "outputs": [
    {
     "data": {
      "image/png": "[encoded data removed]",
      "text/plain": [
       "<Figure size 432x288 with 1 Axes>"
      ]
     },
     "metadata": {
      "needs_background": "light"
     },
     "output_type": "display_data"
    }
   ],
   "source": [
    "from sklearn.pipeline import Pipeline\n",
    "\n",
    "polynomial_reg = Pipeline((\n",
    "    ('poly_features', PolynomialFeatures(degree=10, include_bias=False)), \n",
    "                          ('sgd_reg', LinearRegression())))\n",
    "\n",
    "plot_learning_curves(polynomial_reg, X, y)"
   ]
  },
  {
   "cell_type": "markdown",
   "metadata": {},
   "source": [
    "# Writing mathematical expressions\n",
    "\n",
    "https://matplotlib.org/tutorials/text/mathtext.html\n",
    "\n",
    "math text\n",
    "\n",
    "`plt.title(r'$\\alpha > \\beta$')`\n",
    "\n",
    "## Subscripts and Superscripts\n",
    "\n",
    "`r'$\\alpha_i > \\beta_i$'`\n",
    "\n",
    "`r'$\\sum_{i=0}^\\infty x_i$'`\n",
    "\n",
    "## Fractions, Binomials, and Stacked Numbers\n",
    "\n",
    "`r'$\\frac{3}{4} \\binom{3}{4} \\genfrac{}{}{0}{}{3}{4}$'`\n",
    "\n",
    "`r'$\\left(\\frac{5 - \\frac{1}{x}}{4}\\right)$'`"
   ]
  },
  {
   "cell_type": "code",
   "execution_count": 24,
   "metadata": {},
   "outputs": [],
   "source": [
    "from sklearn.preprocessing import StandardScaler\n",
    "\n",
    "scaler = StandardScaler()\n",
    "X_sc = scaler.fit_transform(X)\n",
    "y_sc = scaler.fit_transform(y)"
   ]
  },
  {
   "cell_type": "code",
   "execution_count": 25,
   "metadata": {},
   "outputs": [],
   "source": [
    "from sklearn.linear_model import Ridge\n",
    "\n",
    "ridge_reg = Ridge(alpha=1, solver='cholesky')\n",
    "ridge_reg.fit(X, y)\n",
    "ridge_pred = ridge_reg.predict([[-11], [-7], [-1.5], [-0.5], [0], [0.5], [1.5], [7], [11]])"
   ]
  },
  {
   "cell_type": "code",
   "execution_count": 26,
   "metadata": {},
   "outputs": [
    {
     "name": "stdout",
     "output_type": "stream",
     "text": [
      "[[40.62629958]\n",
      " [32.14177367]\n",
      " [20.47555055]\n",
      " [18.35441908]\n",
      " [17.29385334]\n",
      " [16.2332876 ]\n",
      " [14.11215613]\n",
      " [ 2.44593301]\n",
      " [-6.0385929 ]]\n"
     ]
    }
   ],
   "source": [
    "print(ridge_pred)"
   ]
  },
  {
   "cell_type": "code",
   "execution_count": 27,
   "metadata": {},
   "outputs": [],
   "source": [
    "sgd_reg = SGDRegressor(penalty='l2', alpha=1)\n",
    "sgd_reg.fit(X, y.ravel())\n",
    "sgd_pred = sgd_reg.predict([[-11], [-7], [-1.5], [-0.5], [0], [0.5], [1.5], [7], [11]])"
   ]
  },
  {
   "cell_type": "code",
   "execution_count": 28,
   "metadata": {},
   "outputs": [
    {
     "name": "stdout",
     "output_type": "stream",
     "text": [
      "[23.81941509 20.47372001 15.87338928 15.03696552 14.61875363 14.20054175\n",
      " 13.36411798  8.76378725  5.41809217]\n"
     ]
    }
   ],
   "source": [
    "print(sgd_pred)"
   ]
  },
  {
   "cell_type": "code",
   "execution_count": 29,
   "metadata": {},
   "outputs": [
    {
     "name": "stdout",
     "output_type": "stream",
     "text": [
      "[40.43072639 32.0440079  20.51226998 18.41559036 17.36725055 16.31891074\n",
      " 14.22223112  2.6904932  -5.69622528]\n"
     ]
    }
   ],
   "source": [
    "from sklearn.linear_model import Lasso\n",
    "\n",
    "lasso_reg = Lasso(alpha=1)\n",
    "lasso_reg.fit(X, y)\n",
    "lasso_pred = lasso_reg.predict([[-11], [-7], [-1.5], [-0.5], [0], [0.5], [1.5], [7], [11]])\n",
    "print(lasso_pred)"
   ]
  },
  {
   "cell_type": "code",
   "execution_count": 30,
   "metadata": {},
   "outputs": [
    {
     "name": "stdout",
     "output_type": "stream",
     "text": [
      "[40.59938956 32.12832153 20.48060299 18.36283598 17.30395247 16.24506897\n",
      " 14.12730196  2.47958342 -5.99148461]\n"
     ]
    }
   ],
   "source": [
    "from sklearn.linear_model import ElasticNet\n",
    "\n",
    "elastic_net = ElasticNet(alpha=0.1, l1_ratio=0.5)\n",
    "elastic_net.fit(X, y)\n",
    "elastic_pred = elastic_net.predict([[-11], [-7], [-1.5], [-0.5], [0], [0.5], [1.5], [7], [11]])\n",
    "print(elastic_pred)"
   ]
  },
  {
   "cell_type": "code",
   "execution_count": 31,
   "metadata": {},
   "outputs": [
    {
     "name": "stdout",
     "output_type": "stream",
     "text": [
      "[ 39.13279868  28.9142723   14.86379853  12.30916693  11.03185114\n",
      "   9.75453534   7.19990374  -6.85057003 -17.06909641]\n"
     ]
    }
   ],
   "source": [
    "#from sklearn.base import clone\n",
    "import joblib\n",
    "\n",
    "sgd_reg = SGDRegressor(warm_start=True, penalty=None,\n",
    "                       learning_rate='constant', eta0=0.0005)\n",
    "minimum_val_error = float('inf')\n",
    "best_epoch = None\n",
    "best_model = None\n",
    "X_train, X_val, y_train, y_val = train_test_split(X, y, test_size=0.2)\n",
    "for epoch in range(1000):\n",
    "    sgd_reg.fit(X_train, y_train.ravel())\n",
    "    y_val_pred = sgd_reg.predict(X_val)\n",
    "    val_error = mean_squared_error(y_val_pred, y_val)\n",
    "    if val_error < minimum_val_error:\n",
    "        minimum_val_error = val_error\n",
    "        best_epoch = epoch\n",
    "        #best_model = clone(sgd_reg)\n",
    "        joblib.dump(sgd_reg, 'best_model.pkl')\n",
    "\n",
    "best_model = joblib.load('best_model.pkl')\n",
    "sgd_early_pred = best_model.predict([[-11], [-7], [-1.5], [-0.5], [0], [0.5], [1.5], [7], [11]])\n",
    "print(sgd_early_pred)"
   ]
  },
  {
   "cell_type": "code",
   "execution_count": 32,
   "metadata": {
    "scrolled": true
   },
   "outputs": [
    {
     "data": {
      "image/png": "[encoded data removed]",
      "text/plain": [
       "<Figure size 432x288 with 1 Axes>"
      ]
     },
     "metadata": {
      "needs_background": "light"
     },
     "output_type": "display_data"
    }
   ],
   "source": [
    "plt.scatter(X, y, color='black')\n",
    "plt.plot([-11, -7, -1.5, -0.5, 0, 0.5, 1.5, 7, 11], ridge_pred, color='r', label='ridge')\n",
    "plt.plot([-11, -7, -1.5, -0.5, 0, 0.5, 1.5, 7, 11], sgd_pred, color='b', label='sgd')\n",
    "plt.plot([-11, -7, -1.5, -0.5, 0, 0.5, 1.5, 7, 11], lasso_pred, color='g', label='lasso')\n",
    "plt.plot([-11, -7, -1.5, -0.5, 0, 0.5, 1.5, 7, 11], elastic_pred, color='cyan', label='elastic')\n",
    "plt.plot([-11, -7, -1.5, -0.5, 0, 0.5, 1.5, 7, 11], sgd_early_pred, color='orange', label='sgd_early')\n",
    "plt.axis([-12, 12, -2, 50])\n",
    "plt.legend()\n",
    "plt.xlabel('X')\n",
    "plt.ylabel('y')\n",
    "plt.show()"
   ]
  },
  {
   "cell_type": "code",
   "execution_count": 35,
   "metadata": {},
   "outputs": [],
   "source": [
    "# import dataset\n",
    "from sklearn import datasets\n",
    "\n",
    "iris = datasets.load_iris()\n",
    "X = iris['data'][:, 3].reshape(-1, 1) # petal width column\n",
    "y = (iris['target'] == 2).astype(np.int) # 1 if Virginica else 0"
   ]
  },
  {
   "cell_type": "code",
   "execution_count": 36,
   "metadata": {},
   "outputs": [
    {
     "name": "stderr",
     "output_type": "stream",
     "text": [
      "C:\\Users\\Stephen\\Anaconda3\\lib\\site-packages\\sklearn\\linear_model\\logistic.py:432: FutureWarning: Default solver will be changed to 'lbfgs' in 0.22. Specify a solver to silence this warning.\n",
      "  FutureWarning)\n"
     ]
    },
    {
     "data": {
      "text/plain": [
       "LogisticRegression(C=1.0, class_weight=None, dual=False, fit_intercept=True,\n",
       "                   intercept_scaling=1, l1_ratio=None, max_iter=100,\n",
       "                   multi_class='warn', n_jobs=None, penalty='l2',\n",
       "                   random_state=None, solver='warn', tol=0.0001, verbose=0,\n",
       "                   warm_start=False)"
      ]
     },
     "execution_count": 36,
     "metadata": {},
     "output_type": "execute_result"
    }
   ],
   "source": [
    "# train Logistic Regression\n",
    "from sklearn.linear_model import LogisticRegression\n",
    "\n",
    "log_reg = LogisticRegression()\n",
    "log_reg.fit(X, y)"
   ]
  },
  {
   "cell_type": "code",
   "execution_count": 39,
   "metadata": {},
   "outputs": [
    {
     "data": {
      "image/png": "[encoded data removed]",
      "text/plain": [
       "<Figure size 432x288 with 1 Axes>"
      ]
     },
     "metadata": {
      "needs_background": "light"
     },
     "output_type": "display_data"
    }
   ],
   "source": [
    "# get estimated probabilities for petal widths 0-3cm\n",
    "X_new = np.linspace(0, 3, 1000).reshape(-1, 1)\n",
    "y_proba = log_reg.predict_proba(X_new)\n",
    "plt.plot(X_new, y_proba[:, 1], 'g-', label='Iris-Viriginica')\n",
    "plt.plot(X_new, y_proba[:, 0], 'b--', label='Not Iris-Virginica')\n",
    "plt.legend()\n",
    "plt.xlabel('Petal width (cm)')\n",
    "plt.ylabel('Probability')\n",
    "plt.show()"
   ]
  },
  {
   "cell_type": "code",
   "execution_count": 43,
   "metadata": {},
   "outputs": [
    {
     "data": {
      "text/plain": [
       "array([0, 0, 1, 1])"
      ]
     },
     "execution_count": 43,
     "metadata": {},
     "output_type": "execute_result"
    }
   ],
   "source": [
    "log_reg.predict([[1.5], [1.6], [1.65], [1.7]])"
   ]
  },
  {
   "cell_type": "code",
   "execution_count": 45,
   "metadata": {},
   "outputs": [
    {
     "data": {
      "text/plain": [
       "LogisticRegression(C=10, class_weight=None, dual=False, fit_intercept=True,\n",
       "                   intercept_scaling=1, l1_ratio=None, max_iter=100,\n",
       "                   multi_class='multinomial', n_jobs=None, penalty='l2',\n",
       "                   random_state=None, solver='lbfgs', tol=0.0001, verbose=0,\n",
       "                   warm_start=False)"
      ]
     },
     "execution_count": 45,
     "metadata": {},
     "output_type": "execute_result"
    }
   ],
   "source": [
    "X = iris['data'][:, (2, 3)] # petal length and width\n",
    "y = iris['target']\n",
    "softmax_reg = LogisticRegression(multi_class='multinomial', solver='lbfgs', C=10)\n",
    "softmax_reg.fit(X, y)"
   ]
  },
  {
   "cell_type": "code",
   "execution_count": 46,
   "metadata": {},
   "outputs": [
    {
     "name": "stdout",
     "output_type": "stream",
     "text": [
      "[2 1 0]\n",
      "[[6.38014896e-07 5.74929995e-02 9.42506362e-01]\n",
      " [1.33087477e-01 8.66806819e-01 1.05703875e-04]\n",
      " [9.43028185e-01 5.69532726e-02 1.85426586e-05]]\n"
     ]
    }
   ],
   "source": [
    "y_pred = softmax_reg.predict([[5, 2], [3, 1.5], [2, 2.3]])\n",
    "y_proba = softmax_reg.predict_proba([[5, 2], [3, 1.5], [2, 2.3]])\n",
    "print(y_pred)\n",
    "print(y_proba)"
   ]
  },
  {
   "cell_type": "markdown",
   "metadata": {},
   "source": [
    "# Exercises"
   ]
  },
  {
   "cell_type": "markdown",
   "metadata": {},
   "source": [
    "1) SGD or Mini-batch GD.\n",
    "\n",
    "2) Most regularised algorithms such as Ridge, Lasso, Elastic Net. We can use a StandardScaler to scale the data before training the model.\n",
    "\n",
    "(If the features have very different scales, the cost function will have the shape of an elongated bowl, so GD algorithms will take longer to converge. Note, Normal Equation works fine without scaling).\n",
    "\n",
    "3) The cost function is convex and has a simple path to the global minimum with no local optima.\n",
    "\n",
    "4) No, SGD and Mini-batch GD do not settle on the global minimum as does Batch GD.\n",
    "\n",
    "5) Overfitting. We can use regularisation.\n",
    "\n",
    "(If validation error goes up, the learning rate could be too high and therefore diverging. If training error also goes up, then we should clearly reduce the learning rate. If training error is not going up, then overfitting and we should stop training)\n",
    "\n",
    "6) We can let it go for a few runs without improvements just to check of the minimum validation has in fact been reached. Therefore we must save the state of our best model to revert back once we sure we will not beat the record.\n",
    "\n",
    "7) a) SGD, b) Batch, c) use a learning rate that decreases optimally to get very near the global minimum.\n",
    "\n",
    "8) There is overfitting. The model could be too complex so we can reduce the degrees of freedom. Also we can use regularisation (l2 penalty/Ridge or l1 penalty/Lasso) if not doing so already. Lastly, we can get more training data.\n",
    "\n",
    "9) Underfitting therefore high bias, we should reduce alpha so that the weights can increase and therefore model the data better.\n",
    "\n",
    "10) a) Ridge is regularised while Linear Regression is not, b) Lasso is able to reduce those weights for features that are not important, unlike Ridge, c) Elastic Net is better when several features are strongly correlated or the number of features are greater than the number of instances in the training data.\n",
    "\n",
    "11) Softmax is not multioutput, so 2 Logits is able to calssify the indoor/outdoor classes and the daytime/nighttime classes seperately.\n",
    "\n",
    "## 12) Implement Batch Gradient Descent with early stopping for Softmax Regression (without using Scikit-Learn)\n",
    "\n",
    "See 04_training_linear_models.ipynb"
   ]
  },
  {
   "cell_type": "code",
   "execution_count": null,
   "metadata": {},
   "outputs": [],
   "source": []
  }
 ],
 "metadata": {
  "kernelspec": {
   "display_name": "Python 3",
   "language": "python",
   "name": "python3"
  },
  "language_info": {
   "codemirror_mode": {
    "name": "ipython",
    "version": 3
   },
   "file_extension": ".py",
   "mimetype": "text/x-python",
   "name": "python",
   "nbconvert_exporter": "python",
   "pygments_lexer": "ipython3",
   "version": "3.7.3"
  }
 },
 "nbformat": 4,
 "nbformat_minor": 2
}
